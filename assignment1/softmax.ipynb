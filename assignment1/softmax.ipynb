{
 "cells": [
  {
   "cell_type": "markdown",
   "metadata": {},
   "source": [
    "# Softmax exercise\n",
    "\n",
    "*Complete and hand in this completed worksheet (including its outputs and any supporting code outside of the worksheet) with your assignment submission. For more details see the [assignments page](http://vision.stanford.edu/teaching/cs231n/assignments.html) on the course website.*\n",
    "\n",
    "This exercise is analogous to the SVM exercise. You will:\n",
    "\n",
    "- implement a fully-vectorized **loss function** for the Softmax classifier\n",
    "- implement the fully-vectorized expression for its **analytic gradient**\n",
    "- **check your implementation** with numerical gradient\n",
    "- use a validation set to **tune the learning rate and regularization** strength\n",
    "- **optimize** the loss function with **SGD**\n",
    "- **visualize** the final learned weights\n",
    "http://cs231n.github.io/neural-networks-case-study/ "
   ]
  },
  {
   "cell_type": "code",
   "execution_count": 2,
   "metadata": {
    "collapsed": false
   },
   "outputs": [
    {
     "name": "stdout",
     "output_type": "stream",
     "text": [
      "The autoreload extension is already loaded. To reload it, use:\n",
      "  %reload_ext autoreload\n"
     ]
    }
   ],
   "source": [
    "import random\n",
    "import numpy as np\n",
    "from cs231n.data_utils import load_CIFAR10\n",
    "import matplotlib.pyplot as plt\n",
    "\n",
    "from __future__ import print_function\n",
    "\n",
    "%matplotlib inline\n",
    "plt.rcParams['figure.figsize'] = (10.0, 8.0) # set default size of plots\n",
    "plt.rcParams['image.interpolation'] = 'nearest'\n",
    "plt.rcParams['image.cmap'] = 'gray'\n",
    "\n",
    "# for auto-reloading extenrnal modules\n",
    "# see http://stackoverflow.com/questions/1907993/autoreload-of-modules-in-ipython\n",
    "%load_ext autoreload\n",
    "%autoreload 2"
   ]
  },
  {
   "cell_type": "code",
   "execution_count": 3,
   "metadata": {
    "collapsed": false
   },
   "outputs": [
    {
     "name": "stdout",
     "output_type": "stream",
     "text": [
      "Train data shape:  (49000, 3073)\n",
      "Train labels shape:  (49000,)\n",
      "Validation data shape:  (1000, 3073)\n",
      "Validation labels shape:  (1000,)\n",
      "Test data shape:  (1000, 3073)\n",
      "Test labels shape:  (1000,)\n",
      "dev data shape:  (500, 3073)\n",
      "dev labels shape:  (500,)\n"
     ]
    }
   ],
   "source": [
    "def get_CIFAR10_data(num_training=49000, num_validation=1000, num_test=1000, num_dev=500):\n",
    "    \"\"\"\n",
    "    Load the CIFAR-10 dataset from disk and perform preprocessing to prepare\n",
    "    it for the linear classifier. These are the same steps as we used for the\n",
    "    SVM, but condensed to a single function.  \n",
    "    \"\"\"\n",
    "    # Load the raw CIFAR-10 data\n",
    "    cifar10_dir = 'cs231n/datasets/cifar-10-batches-py'\n",
    "    X_train, y_train, X_test, y_test = load_CIFAR10(cifar10_dir)\n",
    "    \n",
    "    # subsample the data\n",
    "    mask = list(range(num_training, num_training + num_validation))\n",
    "    X_val = X_train[mask]\n",
    "    y_val = y_train[mask]\n",
    "    mask = list(range(num_training))\n",
    "    X_train = X_train[mask]\n",
    "    y_train = y_train[mask]\n",
    "    mask = list(range(num_test))\n",
    "    X_test = X_test[mask]\n",
    "    y_test = y_test[mask]\n",
    "    mask = np.random.choice(num_training, num_dev, replace=False)\n",
    "    X_dev = X_train[mask]\n",
    "    y_dev = y_train[mask]\n",
    "    \n",
    "    # Preprocessing: reshape the image data into rows\n",
    "    X_train = np.reshape(X_train, (X_train.shape[0], -1))\n",
    "    X_val = np.reshape(X_val, (X_val.shape[0], -1))\n",
    "    X_test = np.reshape(X_test, (X_test.shape[0], -1))\n",
    "    X_dev = np.reshape(X_dev, (X_dev.shape[0], -1))\n",
    "    \n",
    "    # Normalize the data: subtract the mean image\n",
    "    mean_image = np.mean(X_train, axis = 0)\n",
    "    X_train -= mean_image\n",
    "    X_val -= mean_image\n",
    "    X_test -= mean_image\n",
    "    X_dev -= mean_image\n",
    "    \n",
    "    # add bias dimension and transform into columns\n",
    "    X_train = np.hstack([X_train, np.ones((X_train.shape[0], 1))])\n",
    "    X_val = np.hstack([X_val, np.ones((X_val.shape[0], 1))])\n",
    "    X_test = np.hstack([X_test, np.ones((X_test.shape[0], 1))])\n",
    "    X_dev = np.hstack([X_dev, np.ones((X_dev.shape[0], 1))])\n",
    "    \n",
    "    return X_train, y_train, X_val, y_val, X_test, y_test, X_dev, y_dev\n",
    "\n",
    "\n",
    "# Invoke the above function to get our data.\n",
    "X_train, y_train, X_val, y_val, X_test, y_test, X_dev, y_dev = get_CIFAR10_data()\n",
    "print('Train data shape: ', X_train.shape)\n",
    "print('Train labels shape: ', y_train.shape)\n",
    "print('Validation data shape: ', X_val.shape)\n",
    "print('Validation labels shape: ', y_val.shape)\n",
    "print('Test data shape: ', X_test.shape)\n",
    "print('Test labels shape: ', y_test.shape)\n",
    "print('dev data shape: ', X_dev.shape)\n",
    "print('dev labels shape: ', y_dev.shape)"
   ]
  },
  {
   "cell_type": "markdown",
   "metadata": {},
   "source": [
    "## Softmax Classifier\n",
    "\n",
    "Your code for this section will all be written inside **cs231n/classifiers/softmax.py**. \n"
   ]
  },
  {
   "cell_type": "code",
   "execution_count": 12,
   "metadata": {
    "collapsed": false
   },
   "outputs": [
    {
     "name": "stdout",
     "output_type": "stream",
     "text": [
      "loss: 2.307306\n",
      "sanity check: 2.302585\n"
     ]
    }
   ],
   "source": [
    "# First implement the naive softmax loss function with nested loops.\n",
    "# Open the file cs231n/classifiers/softmax.py and implement the\n",
    "# softmax_loss_naive function.\n",
    "\n",
    "from cs231n.classifiers.softmax import softmax_loss_naive\n",
    "\n",
    "import time\n",
    "\n",
    "# Generate a random softmax weight matrix and use it to compute the loss.\n",
    "W = np.random.randn(3073, 10) * 0.0001\n",
    "loss, grad = softmax_loss_naive(W, X_dev, y_dev, 0.0)\n",
    "\n",
    "# As a rough sanity check, our loss should be something close to -log(0.1).\n",
    "print('loss: %f' % loss)\n",
    "print('sanity check: %f' % (-np.log(0.1)))"
   ]
  },
  {
   "cell_type": "markdown",
   "metadata": {},
   "source": [
    "## Inline Question 1:\n",
    "Why do we expect our loss to be close to -log(0.1)? Explain briefly.**\n",
    "\n",
    "**Your answer:** *Fill this in*\n",
    "\n",
    "there are 10 classes. according to softmax equation,loss is -np.log(0.1/1)\n"
   ]
  },
  {
   "cell_type": "code",
   "execution_count": 13,
   "metadata": {
    "collapsed": false
   },
   "outputs": [
    {
     "name": "stdout",
     "output_type": "stream",
     "text": [
      "numerical: 0.931719 analytic: 0.931719, relative error: 4.063205e-09\n",
      "numerical: 0.140887 analytic: 0.140887, relative error: 2.533822e-07\n",
      "numerical: -0.464156 analytic: -0.464156, relative error: 2.951587e-08\n",
      "numerical: -2.056560 analytic: -2.056560, relative error: 7.103072e-09\n",
      "numerical: 0.107422 analytic: 0.107422, relative error: 1.898138e-07\n",
      "numerical: 0.875420 analytic: 0.875420, relative error: 2.535510e-08\n",
      "numerical: -0.607950 analytic: -0.607950, relative error: 5.972929e-08\n",
      "numerical: 0.460536 analytic: 0.460536, relative error: 9.719277e-08\n",
      "numerical: 2.642524 analytic: 2.642524, relative error: 1.070244e-08\n",
      "numerical: -0.062068 analytic: -0.062068, relative error: 9.569956e-07\n",
      "numerical: 0.680977 analytic: 0.679926, relative error: 7.721278e-04\n",
      "numerical: -0.606052 analytic: -0.614944, relative error: 7.282006e-03\n",
      "numerical: 3.321528 analytic: 3.323359, relative error: 2.755641e-04\n",
      "numerical: -2.018793 analytic: -2.017825, relative error: 2.397683e-04\n",
      "numerical: -0.356460 analytic: -0.354594, relative error: 2.623934e-03\n",
      "numerical: 2.291693 analytic: 2.290139, relative error: 3.390681e-04\n",
      "numerical: 2.009333 analytic: 2.004090, relative error: 1.306423e-03\n",
      "numerical: -2.079495 analytic: -2.088371, relative error: 2.129590e-03\n",
      "numerical: 0.608736 analytic: 0.609812, relative error: 8.827895e-04\n",
      "numerical: -0.731645 analytic: -0.729153, relative error: 1.705718e-03\n"
     ]
    }
   ],
   "source": [
    "# Complete the implementation of softmax_loss_naive and implement a (naive)\n",
    "# version of the gradient that uses nested loops.\n",
    "loss, grad = softmax_loss_naive(W, X_dev, y_dev, 0.0)\n",
    "\n",
    "# As we did for the SVM, use numeric gradient checking as a debugging tool.\n",
    "# The numeric gradient should be close to the analytic gradient.\n",
    "from cs231n.gradient_check import grad_check_sparse\n",
    "f = lambda w: softmax_loss_naive(w, X_dev, y_dev, 0.0)[0]\n",
    "\n",
    "grad_numerical = grad_check_sparse(f, W, grad, 10)\n",
    "\n",
    "# similar to SVM case, do another gradient check with regularization\n",
    "loss, grad = softmax_loss_naive(W, X_dev, y_dev, 5e1)\n",
    "f = lambda w: softmax_loss_naive(w, X_dev, y_dev, 5e1)[0]\n",
    "grad_numerical = grad_check_sparse(f, W, grad, 10)"
   ]
  },
  {
   "cell_type": "code",
   "execution_count": 14,
   "metadata": {
    "collapsed": false
   },
   "outputs": [
    {
     "name": "stdout",
     "output_type": "stream",
     "text": [
      "naive loss: 2.307306e+00 computed in 0.197878s\n",
      "vectorized loss: 2.307306e+00 computed in 0.011583s\n",
      "Loss difference: 0.000000\n",
      "Gradient difference: 0.000000\n"
     ]
    }
   ],
   "source": [
    "# Now that we have a naive implementation of the softmax loss function and its gradient,\n",
    "# implement a vectorized version in softmax_loss_vectorized.\n",
    "# The two versions should compute the same results, but the vectorized version should be\n",
    "# much faster.\n",
    "tic = time.time()\n",
    "loss_naive, grad_naive = softmax_loss_naive(W, X_dev, y_dev, 0.000005)\n",
    "toc = time.time()\n",
    "print('naive loss: %e computed in %fs' % (loss_naive, toc - tic))\n",
    "\n",
    "from cs231n.classifiers.softmax import softmax_loss_vectorized\n",
    "tic = time.time()\n",
    "loss_vectorized, grad_vectorized = softmax_loss_vectorized(W, X_dev, y_dev, 0.000005)\n",
    "toc = time.time()\n",
    "print('vectorized loss: %e computed in %fs' % (loss_vectorized, toc - tic))\n",
    "\n",
    "# As we did for the SVM, we use the Frobenius norm to compare the two versions\n",
    "# of the gradient.\n",
    "grad_difference = np.linalg.norm(grad_naive - grad_vectorized, ord='fro')\n",
    "print('Loss difference: %f' % np.abs(loss_naive - loss_vectorized))\n",
    "print('Gradient difference: %f' % grad_difference)"
   ]
  },
  {
   "cell_type": "code",
   "execution_count": 15,
   "metadata": {
    "collapsed": false
   },
   "outputs": [
    {
     "name": "stdout",
     "output_type": "stream",
     "text": [
      "iteration 0 / 2000: loss 777.484545\n",
      "iteration 100 / 2000: loss 469.868247\n",
      "iteration 200 / 2000: loss 285.029634\n",
      "iteration 300 / 2000: loss 173.268334\n",
      "iteration 400 / 2000: loss 105.611107\n",
      "iteration 500 / 2000: loss 64.739913\n",
      "iteration 600 / 2000: loss 40.019645\n",
      "iteration 700 / 2000: loss 24.996288\n",
      "iteration 800 / 2000: loss 15.977502\n",
      "iteration 900 / 2000: loss 10.533009\n",
      "iteration 1000 / 2000: loss 7.143157\n",
      "iteration 1100 / 2000: loss 5.120842\n",
      "iteration 1200 / 2000: loss 3.993154\n",
      "iteration 1300 / 2000: loss 3.323589\n",
      "iteration 1400 / 2000: loss 2.809097\n",
      "iteration 1500 / 2000: loss 2.535702\n",
      "iteration 1600 / 2000: loss 2.303864\n",
      "iteration 1700 / 2000: loss 2.235238\n",
      "iteration 1800 / 2000: loss 2.235737\n",
      "iteration 1900 / 2000: loss 2.221014\n",
      "iteration 0 / 2000: loss 1542.191812\n",
      "iteration 100 / 2000: loss 564.949295\n",
      "iteration 200 / 2000: loss 208.126831\n",
      "iteration 300 / 2000: loss 77.589910\n",
      "iteration 400 / 2000: loss 29.714684\n",
      "iteration 500 / 2000: loss 12.311390\n",
      "iteration 600 / 2000: loss 5.889277\n",
      "iteration 700 / 2000: loss 3.485965\n",
      "iteration 800 / 2000: loss 2.679487\n",
      "iteration 900 / 2000: loss 2.369453\n",
      "iteration 1000 / 2000: loss 2.211818\n",
      "iteration 1100 / 2000: loss 2.222055\n",
      "iteration 1200 / 2000: loss 2.164541\n",
      "iteration 1300 / 2000: loss 2.135048\n",
      "iteration 1400 / 2000: loss 2.172913\n",
      "iteration 1500 / 2000: loss 2.157458\n",
      "iteration 1600 / 2000: loss 2.161134\n",
      "iteration 1700 / 2000: loss 2.115129\n",
      "iteration 1800 / 2000: loss 2.168376\n",
      "iteration 1900 / 2000: loss 2.196785\n",
      "iteration 0 / 2000: loss 768.188713\n",
      "iteration 100 / 2000: loss 63.206542\n",
      "iteration 200 / 2000: loss 6.986265\n",
      "iteration 300 / 2000: loss 2.454285\n",
      "iteration 400 / 2000: loss 2.058703\n",
      "iteration 500 / 2000: loss 2.077604\n",
      "iteration 600 / 2000: loss 2.081686\n",
      "iteration 700 / 2000: loss 2.094654\n",
      "iteration 800 / 2000: loss 2.056191\n",
      "iteration 900 / 2000: loss 2.100447\n",
      "iteration 1000 / 2000: loss 2.091368\n",
      "iteration 1100 / 2000: loss 2.128285\n",
      "iteration 1200 / 2000: loss 2.078817\n",
      "iteration 1300 / 2000: loss 2.095285\n",
      "iteration 1400 / 2000: loss 2.095765\n",
      "iteration 1500 / 2000: loss 2.126772\n",
      "iteration 1600 / 2000: loss 2.047772\n",
      "iteration 1700 / 2000: loss 2.106811\n",
      "iteration 1800 / 2000: loss 2.199965\n",
      "iteration 1900 / 2000: loss 2.103333\n",
      "iteration 0 / 2000: loss 1540.278866\n",
      "iteration 100 / 2000: loss 11.760431\n",
      "iteration 200 / 2000: loss 2.167295\n",
      "iteration 300 / 2000: loss 2.144786\n",
      "iteration 400 / 2000: loss 2.174113\n",
      "iteration 500 / 2000: loss 2.260508\n",
      "iteration 600 / 2000: loss 2.164964\n",
      "iteration 700 / 2000: loss 2.201565\n",
      "iteration 800 / 2000: loss 2.121157\n",
      "iteration 900 / 2000: loss 2.188566\n",
      "iteration 1000 / 2000: loss 2.144433\n",
      "iteration 1100 / 2000: loss 2.176045\n",
      "iteration 1200 / 2000: loss 2.147630\n",
      "iteration 1300 / 2000: loss 2.156906\n",
      "iteration 1400 / 2000: loss 2.168302\n",
      "iteration 1500 / 2000: loss 2.203158\n",
      "iteration 1600 / 2000: loss 2.173937\n",
      "iteration 1700 / 2000: loss 2.190204\n",
      "iteration 1800 / 2000: loss 2.185242\n",
      "iteration 1900 / 2000: loss 2.241750\n",
      "lr 1.000000e-07 reg 2.500000e+04 train accuracy: 0.352816 val accuracy: 0.364000\n",
      "lr 1.000000e-07 reg 5.000000e+04 train accuracy: 0.326082 val accuracy: 0.344000\n",
      "lr 5.000000e-07 reg 2.500000e+04 train accuracy: 0.351653 val accuracy: 0.359000\n",
      "lr 5.000000e-07 reg 5.000000e+04 train accuracy: 0.316735 val accuracy: 0.323000\n",
      "best validation accuracy achieved during cross-validation: 0.364000\n"
     ]
    }
   ],
   "source": [
    "# Use the validation set to tune hyperparameters (regularization strength and\n",
    "# learning rate). You should experiment with different ranges for the learning\n",
    "# rates and regularization strengths; if you are careful you should be able to\n",
    "# get a classification accuracy of over 0.35 on the validation set.\n",
    "from cs231n.classifiers import Softmax\n",
    "results = {}\n",
    "best_val = -1\n",
    "best_softmax = None\n",
    "learning_rates = [1e-7, 5e-7]\n",
    "regularization_strengths = [2.5e4, 5e4]\n",
    "\n",
    "################################################################################\n",
    "# TODO:                                                                        #\n",
    "# Use the validation set to set the learning rate and regularization strength. #\n",
    "# This should be identical to the validation that you did for the SVM; save    #\n",
    "# the best trained softmax classifer in best_softmax.                          #\n",
    "################################################################################\n",
    "pass\n",
    "for i in learning_rates:\n",
    "    for j in regularization_strengths:\n",
    "            softmax = Softmax()\n",
    "            lrn_reg = (i, j)\n",
    "\n",
    "            loss = softmax.train(X_train, y_train, learning_rate = lrn_reg[0], reg = lrn_reg[1],\n",
    "                      num_iters = 2000, verbose=True)\n",
    "            \n",
    "            y_train_pred = softmax.predict(X_train)\n",
    "            train_accuracy = np.mean(y_train == y_train_pred)\n",
    "            \n",
    "            y_val_pred = softmax.predict(X_val)\n",
    "            val_accuracy = np.mean(y_val == y_val_pred)\n",
    "            if best_val < val_accuracy:\n",
    "                best_val = val_accuracy\n",
    "                best_softmax = softmax\n",
    "            results[lrn_reg] = (train_accuracy,val_accuracy)\n",
    "\n",
    "################################################################################\n",
    "#                              END OF YOUR CODE                                #\n",
    "################################################################################\n",
    "    \n",
    "# Print out results.\n",
    "for lr, reg in sorted(results):\n",
    "    train_accuracy, val_accuracy = results[(lr, reg)]\n",
    "    print('lr %e reg %e train accuracy: %f val accuracy: %f' % (\n",
    "                lr, reg, train_accuracy, val_accuracy))\n",
    "    \n",
    "print('best validation accuracy achieved during cross-validation: %f' % best_val)"
   ]
  },
  {
   "cell_type": "code",
   "execution_count": 16,
   "metadata": {
    "collapsed": false
   },
   "outputs": [
    {
     "name": "stdout",
     "output_type": "stream",
     "text": [
      "softmax on raw pixels final test set accuracy: 0.362000\n"
     ]
    }
   ],
   "source": [
    "# evaluate on test set\n",
    "# Evaluate the best softmax on test set\n",
    "y_test_pred = best_softmax.predict(X_test)\n",
    "test_accuracy = np.mean(y_test == y_test_pred)\n",
    "print('softmax on raw pixels final test set accuracy: %f' % (test_accuracy, ))"
   ]
  },
  {
   "cell_type": "code",
   "execution_count": 17,
   "metadata": {
    "collapsed": false
   },
   "outputs": [
    {
     "data": {
      "image/png": "[encoded data removed]",
      "text/plain": [
       "<matplotlib.figure.Figure at 0x7f7e7bf7a1d0>"
      ]
     },
     "metadata": {},
     "output_type": "display_data"
    }
   ],
   "source": [
    "# Visualize the learned weights for each class\n",
    "w = best_softmax.W[:-1,:] # strip out the bias\n",
    "w = w.reshape(32, 32, 3, 10)\n",
    "\n",
    "w_min, w_max = np.min(w), np.max(w)\n",
    "\n",
    "classes = ['plane', 'car', 'bird', 'cat', 'deer', 'dog', 'frog', 'horse', 'ship', 'truck']\n",
    "for i in range(10):\n",
    "    plt.subplot(2, 5, i + 1)\n",
    "    \n",
    "    # Rescale the weights to be between 0 and 255\n",
    "    wimg = 255.0 * (w[:, :, :, i].squeeze() - w_min) / (w_max - w_min)\n",
    "    plt.imshow(wimg.astype('uint8'))\n",
    "    plt.axis('off')\n",
    "    plt.title(classes[i])"
   ]
  },
  {
   "cell_type": "code",
   "execution_count": null,
   "metadata": {
    "collapsed": true
   },
   "outputs": [],
   "source": []
  }
 ],
 "metadata": {
  "kernelspec": {
   "display_name": "Python 3",
   "language": "python",
   "name": "python3"
  },
  "language_info": {
   "codemirror_mode": {
    "name": "ipython",
    "version": 3
   },
   "file_extension": ".py",
   "mimetype": "text/x-python",
   "name": "python",
   "nbconvert_exporter": "python",
   "pygments_lexer": "ipython3",
   "version": "3.5.2"
  }
 },
 "nbformat": 4,
 "nbformat_minor": 0
}
